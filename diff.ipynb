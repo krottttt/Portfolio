{
  "nbformat": 4,
  "nbformat_minor": 0,
  "metadata": {
    "colab": {
      "provenance": []
    },
    "kernelspec": {
      "name": "python3",
      "display_name": "Python 3"
    },
    "language_info": {
      "name": "python"
    }
  },
  "cells": [
    {
      "cell_type": "markdown",
      "source": [
        "#**Моделирование диффузии частиц**\n",
        "Этот проект я делал для доклада на своем факультете. Код ниже модделирует диффузиую газов двух разнородных незаряженных частиц, находящихся в закрытом объеме."
      ],
      "metadata": {
        "id": "k2ut-OaZu2-M"
      }
    },
    {
      "cell_type": "code",
      "execution_count": 1,
      "metadata": {
        "id": "_lOLf7U2rKdB"
      },
      "outputs": [],
      "source": [
        "import numpy as np\n",
        "from mpl_toolkits.mplot3d import Axes3D\n",
        "import matplotlib.pyplot as plt\n",
        "import scipy as sp\n",
        "import time\n",
        "import cmath"
      ]
    },
    {
      "cell_type": "code",
      "source": [
        "def plot_surf(a,d):\n",
        "    X = 3\n",
        "    Y = np.arange(0, 3, 0.25)\n",
        "    X, Y = np.meshgrid(X, Y)\n",
        "    Z = np.arange(0, 3, 0.25)\n",
        "    return X,Y,Z"
      ],
      "metadata": {
        "id": "S4NRo52srNv_"
      },
      "execution_count": 2,
      "outputs": []
    },
    {
      "cell_type": "code",
      "source": [
        "def nach_znach(n_mol, raz, v_mean):\n",
        "    r_1 = np.random.rand(n_mol[0], 3)\n",
        "    r_1[:, 0]= raz[3]*r_1[:, 0]\n",
        "    r_1[:, 1] = raz[1] * r_1[:, 1]\n",
        "    r_1[:, 2] = raz[2] * r_1[:, 2]\n",
        "    r_2 = np.random.rand(n_mol[1], 3)\n",
        "    r_2[:, 0] = (raz[0]-raz[3]) * r_2[:,0] + raz[3]\n",
        "    r_2[:, 1] = raz[1] * r_2[:, 1]\n",
        "    r_2[:, 2] = raz[2] * r_2[:, 2]\n",
        "    v_1 = np.random.normal(v_mean[0], 2*v_mean[0],(n_mol[0],3))\n",
        "    v_2 = np.random.normal(v_mean[1], 2*v_mean[1],(n_mol[1],3))\n",
        "    r = np.concatenate((r_1,r_2), axis = 0)\n",
        "    v = np.concatenate((v_1, v_2), axis = 0)\n",
        "    return r,v"
      ],
      "metadata": {
        "id": "7fdgZdIKrSqZ"
      },
      "execution_count": 4,
      "outputs": []
    },
    {
      "cell_type": "code",
      "source": [
        "def solve_quad(a, b, c):\n",
        "    if a != 0:\n",
        "        x1 = (-b + cmath.sqrt(b**2-4*c))/(2*a)\n",
        "        x2 = (-b - cmath.sqrt(b**2-4*c))/(2*a)\n",
        "        if abs(x2)<=abs(x1):\n",
        "            p = x1\n",
        "            x1 = x2\n",
        "            x2 = p\n",
        "        if abs(x1) == 0:\n",
        "            x1 = c/x2\n",
        "        elif abs(x2) == 0:\n",
        "            x2 = c/x1\n",
        "    else:\n",
        "        x1 = -np.divide(c,b)\n",
        "        x2 = x1\n",
        "    return abs(x1), abs(x2)"
      ],
      "metadata": {
        "id": "-ROVCMJurXfX"
      },
      "execution_count": 5,
      "outputs": []
    },
    {
      "cell_type": "code",
      "source": [
        "def diff_func(m, n_mol, raz,r,v,t_0,t,toch,eps,sig):\n",
        "    plt.ion()\n",
        "    fig, ax = plt.subplots(subplot_kw=dict(projection='3d'))\n",
        "    X = raz[3]\n",
        "    Y = np.arange(0, raz[1], raz[1]/10)\n",
        "    Z = np.arange(0, raz[2], raz[2]/ 10)\n",
        "    Y,Z = np.meshgrid(Y,Z)\n",
        "    ax.plot_surface(X,Y,Z,color= 'grey')\n",
        "    r_1 = r[:n_mol[0], :]\n",
        "    r_2 = r[n_mol[0]:n_mol[0]+n_mol[1], :]\n",
        "    x, y, z = zip(*r_1)\n",
        "    ax.scatter(x, y, z,color='green', s=20)\n",
        "    x, y, z = zip(*r_2)\n",
        "    ax.scatter(x, y, z, color='blue',s = 20)\n",
        "    ax.view_init(30, -90)\n",
        "    mng = plt.get_current_fig_manager()\n",
        "    mng.full_screen_toggle()\n",
        "    plt.show()\n",
        "    plt.pause(1)\n",
        "    plt.close('all')\n",
        "    print('закрыт')\n",
        "    l =  r.shape[0]\n",
        "    iters = int((t - t_0)*toch*np.sqrt(max(sum(v[:,k]**2 for k in range(3))))/min(raz))\n",
        "    print(iters)\n",
        "    f = np.zeros(r.shape)\n",
        "    dt = np.divide(t-t_0, iters)\n",
        "    a = np.zeros(r.shape)\n",
        "    for i in range(iters):\n",
        "        if np.sum(f) !=0:\n",
        "            print(i)\n",
        "        for s in range(n_mol[0]):\n",
        "            a[s][:] = np.divide(f[s][:], m[0])\n",
        "        for s in range(n_mol[0], n_mol[0]+n_mol[1]):\n",
        "            a[s][:] = np.divide(f[s][:], m[0])\n",
        "        f = np.zeros(r.shape)\n",
        "        for j in range(l):\n",
        "            for s in range(3):\n",
        "                if r[j][s] + v[j][s] * dt + np.divide(a[j][s] * dt ** 2, 2) >= raz[s]:\n",
        "                    t_1, t_non = solve_quad(np.divide(a[j][s], 2), v[j][s], r[j][s] - raz[s])\n",
        "                    r[j][s] = r[j][s] + v[j][s] * t_1 - (v[j][s] + a[j][s] * t_1) * (dt - t_1) + np.divide(a[j][s] * t_1 ** 2, 2)\n",
        "                    v[j][s] = -v[j][s] - a[j][s] * t_1\n",
        "                elif r[j][s] + v[j][s] * dt + np.divide(a[j][s] * dt ** 2, 2) <= 0:\n",
        "                    t_1, t_non = solve_quad(np.divide(a[j][s], 2), v[j][s], r[j][s])\n",
        "                    r[j][s] = r[j][s] + v[j][s] * t_1 - (v[j][s] + a[j][s] * t_1) * (dt - t_1) + np.divide(a[j][s] * t_1 ** 2,2)\n",
        "                    v[j][s] = -v[j][s] - a[j][s] * t_1\n",
        "                else:\n",
        "                    r[j][s] = r[j][s] + v[j][s] * dt + np.divide(a[j][s] * dt ** 2, 2)\n",
        "                    v[j][s] = v[j][s] + a[j][s] * dt\n",
        "        for j in range(l):\n",
        "            if j < n_mol[0]:\n",
        "                energy = eps[0]\n",
        "                sigma = sig[0]\n",
        "                r_c = 2.5*sigma\n",
        "            else:\n",
        "                energy = eps[1]\n",
        "                sigma = sig[1]\n",
        "                r_c = 2.5*sigma\n",
        "            for k in range(l):\n",
        "                if sum(abs(r[k][p]**2-r[j][p]**2) for p in range(3))<=r_c**2 and k!=j:\n",
        "                    R = np.sqrt(sum(abs(r[k][p]**2-r[j][p]**2) for p in range(3)))\n",
        "                    for s in range(3):\n",
        "                        f[k][s] +=24*energy*(sigma**12/R**13-sigma**6/R**7)*(r[j][s]-r[k][s])/R\n",
        "        if i % 1 ==0:\n",
        "            plt.close('all')\n",
        "            fig, ax = plt.subplots(subplot_kw=dict(projection='3d'))\n",
        "            ax.view_init(30, -90)\n",
        "            mng = plt.get_current_fig_manager()\n",
        "            mng.full_screen_toggle()\n",
        "            X = raz[3]\n",
        "            Y = np.arange(0, raz[1], raz[1] / 10)\n",
        "            Z = np.arange(0, raz[2], raz[2] / 10)\n",
        "            Y, Z = np.meshgrid(Y, Z)\n",
        "            ax.plot_surface(X, Y, Z, color='grey')\n",
        "            r_1 = r[:n_mol[0], :]\n",
        "            r_2 = r[n_mol[0]:n_mol[0] + n_mol[1], :]\n",
        "            x, y, z = zip(*r_1)\n",
        "            ax.scatter(x, y, z, color='green', s=20)\n",
        "            x, y, z = zip(*r_2)\n",
        "            ax.scatter(x, y, z, color='blue', s=20)\n",
        "            plt.show()\n",
        "            plt.pause(0.01)"
      ],
      "metadata": {
        "id": "2p5r69NerbUt"
      },
      "execution_count": 14,
      "outputs": []
    },
    {
      "cell_type": "code",
      "source": [
        "N = 2\n",
        "n_mol= np.array([100, 100], dtype=int)\n",
        "a = np.float_power(n_mol[0]/10**26,1/3)\n",
        "raz = [2*a, a,a,a]\n",
        "v_mean = [478/np.sqrt(3), 500/np.sqrt(3)]\n",
        "m = [5.3*1e-23,4.57*1e-26]\n",
        "r, v = nach_znach(n_mol, raz, v_mean)\n",
        "eps = np.array([99.22*1.38*1e-23, 95.5*1.38*1e-23])\n",
        "sig = [3.52*1e-10,3.69*1e-10]\n",
        "diff_func(m,n_mol,raz,r,v,0,0.01,10**2,eps,sig)"
      ],
      "metadata": {
        "id": "PRt3XXzzu1BR"
      },
      "execution_count": null,
      "outputs": []
    }
  ]
}