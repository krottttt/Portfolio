{
  "nbformat": 4,
  "nbformat_minor": 0,
  "metadata": {
    "colab": {
      "provenance": [],
      "collapsed_sections": []
    },
    "kernelspec": {
      "name": "python3",
      "display_name": "Python 3"
    },
    "language_info": {
      "name": "python"
    }
  },
  "cells": [
    {
      "cell_type": "markdown",
      "source": [
        "## **Парсер музыки из Вконтакте в Яндекс.музыку.**##\n"
      ],
      "metadata": {
        "id": "ymm7_Gm9uD1X"
      }
    },
    {
      "cell_type": "markdown",
      "source": [
        "Такой парсер это конечно же не то, чтобы серьезный проект. Просто однажды я хотел перенести большое количество моей музыки на новую платформу. А так как композиций было 1000+, то вручную это было бы сделать нереально. Тогда я решил все это запарсить. Примерно день ушел на разбор в VK_API, библотеки для yandex_music и самого написания этого кода."
      ],
      "metadata": {
        "id": "9khozMFnwTKp"
      }
    },
    {
      "cell_type": "markdown",
      "source": [
        "Подгружаем и инициализируем все нужные библотеки."
      ],
      "metadata": {
        "id": "eSXggz4wxQym"
      }
    },
    {
      "cell_type": "code",
      "source": [
        "!pip install vk_api"
      ],
      "metadata": {
        "id": "2xkpz24KxzVc"
      },
      "execution_count": null,
      "outputs": []
    },
    {
      "cell_type": "code",
      "source": [
        "!pip install yandex_music"
      ],
      "metadata": {
        "id": "nWtMIzN_x2Vf"
      },
      "execution_count": null,
      "outputs": []
    },
    {
      "cell_type": "code",
      "source": [
        "!pip install keyboard"
      ],
      "metadata": {
        "id": "PP9caNF2yN8x"
      },
      "execution_count": null,
      "outputs": []
    },
    {
      "cell_type": "code",
      "source": [
        "import vk_api\n",
        "from vk_api import audio\n",
        "import requests\n",
        "import os\n",
        "from yandex_music import Client\n",
        "import keyboard\n",
        "import tqdm"
      ],
      "metadata": {
        "id": "QWyGs1Q3xgOI"
      },
      "execution_count": null,
      "outputs": []
    },
    {
      "cell_type": "markdown",
      "source": [
        "Для начала нужно было выпарсить список музыки из вк. Следующий код для этого и нужен."
      ],
      "metadata": {
        "id": "9rFRms6TxEex"
      }
    },
    {
      "cell_type": "code",
      "source": [
        "REQUEST_STATUS_CODE = 200\n",
        "login = input('Введите логин:')  # Номер телефона"
      ],
      "metadata": {
        "id": "yB-3M-D40NxJ"
      },
      "execution_count": null,
      "outputs": []
    },
    {
      "cell_type": "code",
      "source": [
        "password = input('Введите пароль:')  # Пароль"
      ],
      "metadata": {
        "id": "lcFAkek_0P2q"
      },
      "execution_count": null,
      "outputs": []
    },
    {
      "cell_type": "code",
      "source": [
        "my_id = input('Введите id вк:')  # Ваш id vk"
      ],
      "metadata": {
        "id": "Sj2Xof4p0WqE"
      },
      "execution_count": null,
      "outputs": []
    },
    {
      "cell_type": "code",
      "source": [
        "name_dir = input(str('Введите название папки:'))"
      ],
      "metadata": {
        "id": "DqKlzxZQ0j0T"
      },
      "execution_count": null,
      "outputs": []
    },
    {
      "cell_type": "code",
      "source": [
        "path = str(input('Введите путь к к месту, где хотите создать папку:')) + '//' + name_dir"
      ],
      "metadata": {
        "id": "4J_1kyqF0j_X"
      },
      "execution_count": null,
      "outputs": []
    },
    {
      "cell_type": "code",
      "source": [
        "mode = input('Достпуные режимы для парсинга:\\n'\n",
        "             '1: Названия всех доступных аудиозаписей заносятся в текстовый документ\\n'\n",
        "             '2: Все доступные аудиозаписи скачиваются.\\n'\n",
        "             'Названия тех, которые нельзя скачать заносятся в текстовый документ.\\n'\n",
        "             '3: Объединение первых двух.\\n'\n",
        "             'Названия заносятся в текстовый документ. Все достпуные скачиваются.\\n'\n",
        "             'Названия тех, что невозможно скачать, добавляются в отдельный текстовый документ\\n'\n",
        "             'Введите желаемый режим:')"
      ],
      "metadata": {
        "id": "Dp7kTFax4Qzv"
      },
      "execution_count": null,
      "outputs": []
    },
    {
      "cell_type": "code",
      "source": [
        "vk_session = vk_api.VkApi(login=login, password=password)\n",
        "vk_session.auth()\n",
        "vk = vk_session.get_api()  # Теперь можно обращаться к методам API как к обычным классам\n",
        "vk_audio = audio.VkAudio(vk_session)  # Получаем доступ к audio\n",
        "\n",
        "os.chdir(path)\n",
        "t = open('music.txt', 'w', encoding='Utf8')\n",
        "n = open('not_found.txt', 'w', encoding='Utf8')\n",
        "\n",
        "# Режим 1\n",
        "\n",
        "if mode == '1':\n",
        "    for i in vk_audio.get(owner_id=my_id):\n",
        "        print(i[\"artist\"] + ':' + i[\"title\"], file=t)\n",
        "\n",
        "# Режим 2\n",
        "elif mode == '2':\n",
        "  for i in vk_audio.get(owner_id=my_id):\n",
        "    try:\n",
        "        r = requests.get(i[\"url\"])\n",
        "        if r.status_code == REQUEST_STATUS_CODE:\n",
        "            with open(i[\"artist\"] + '_' + i[\"title\"] + '.mp3', 'wb') as output_file:\n",
        "                output_file.write(r.content)\n",
        "    except OSError:\n",
        "        print(i[\"artist\"] + '_' + i[\"title\"], file=n)\n",
        "  t.close()\n",
        "\n",
        "# Режим 3\n",
        "else:\n",
        "  for i in vk_audio.get(owner_id=my_id):\n",
        "    try:\n",
        "        r = requests.get(i[\"url\"])\n",
        "        if r.status_code == REQUEST_STATUS_CODE:\n",
        "            with open(i[\"artist\"] + '_' + i[\"title\"] + '.mp3', 'wb') as output_file:\n",
        "                output_file.write(r.content)\n",
        "            print(i[\"artist\"] + '_' + i[\"title\"], file=t)\n",
        "    except OSError:\n",
        "        print(i[\"artist\"] + '_' + i[\"title\"], file=n)\n"
      ],
      "metadata": {
        "id": "x-mc9JF6zCW3"
      },
      "execution_count": null,
      "outputs": []
    },
    {
      "cell_type": "markdown",
      "source": [
        "Когда выпарсили всю музыку можем искать ее в Yandex.Music или же загружать их туда, если не найдем."
      ],
      "metadata": {
        "id": "Sr0cznvA9zDj"
      }
    },
    {
      "cell_type": "code",
      "source": [
        "def search_compare_add(vvod):\n",
        "    artist, track_name = vvod.split(':')\n",
        "    search_result = client.search(vvod)\n",
        "    best_ = search_result.best\n",
        "    try:\n",
        "        type_ = best_.type\n",
        "        best_result = best_.result\n",
        "        if type_ == 'track':\n",
        "            artist_searched = best_result.artists_name()\n",
        "            track_name_searched = best_result.title\n",
        "            ar = ''.join(artist_searched)\n",
        "            if str(ar).lower() == str(artist).lower() and str(track_name).lower() == str(track_name_searched).lower():\n",
        "                client.users_likes_tracks_add(best_result.id)\n",
        "            elif str(track_name).lower() == str(track_name_searched).lower():\n",
        "                answer = True\n",
        "                for word in artist_searched:\n",
        "                    if word.lower() not in str(artist).lower():\n",
        "                        answer = False\n",
        "                if answer:\n",
        "                    client.users_likes_tracks_add(best_result.id)\n",
        "                else:\n",
        "                    print(vvod, file=not_found)\n",
        "            else:\n",
        "                print(vvod, file=not_found)\n",
        "        else:\n",
        "            print(vvod, file=not_found)\n",
        "    except AttributeError:\n",
        "        print(vvod, file=not_found)\n"
      ],
      "metadata": {
        "id": "t4T_9yUWBCjZ"
      },
      "execution_count": null,
      "outputs": []
    },
    {
      "cell_type": "code",
      "source": [
        "file = open('music.txt', 'r', encoding='utf8')\n",
        "tracks = file.readlines()\n",
        "not_found = open('Ненайдено', 'w', encoding='utf8')\n",
        "email= input('Введите эл. почту:')\n",
        "password = input('Введите пароль:')\n",
        "client = Client.from_credentials('sokolov.super-kirill@yandex.ru', '30360120ftpore')\n",
        "for track in tracks:\n",
        "    r = track.strip()\n",
        "    search_compare_add(r)\n"
      ],
      "metadata": {
        "id": "R8NILZOuBEOs"
      },
      "execution_count": null,
      "outputs": []
    }
  ]
}